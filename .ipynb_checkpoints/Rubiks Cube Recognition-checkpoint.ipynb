{
 "cells": [
  {
   "cell_type": "code",
   "execution_count": null,
   "metadata": {},
   "outputs": [],
   "source": []
  }
 ],
 "metadata": {
  "kernelspec": {
   "display_name": "Python 3.9.7 ('base')",
   "language": "python",
   "name": "python3"
  },
  "language_info": {
   "name": "python",
   "version": "3.9.7"
  },
  "vscode": {
   "interpreter": {
    "hash": "2b77fa8c1cc59c983ee5bffc0aaf8e2bbb488fb2df80a5f6d69be8fc6d314768"
   }
  }
 },
 "nbformat": 4,
 "nbformat_minor": 5
}
